{
 "cells": [
  {
   "cell_type": "code",
   "execution_count": 18,
   "id": "8a976082-9244-4b79-8ea5-fe2c98d50956",
   "metadata": {},
   "outputs": [],
   "source": [
    "import numpy as np\n",
    "from tabulate import tabulate\n",
    "from astropy.table import Table\n"
   ]
  },
  {
   "cell_type": "code",
   "execution_count": 19,
   "id": "5da3def4-f6a3-47f9-9103-53f9812b45b4",
   "metadata": {},
   "outputs": [],
   "source": [
    "def sin_x(x):\n",
    "    return np.sin(x)"
   ]
  },
  {
   "cell_type": "markdown",
   "id": "434d8bf5-5a54-4c86-ad15-90aeacb921f6",
   "metadata": {},
   "source": [
    "## sin(x) returns the value of sin(x), while cos(x) returns the value of cos(x)"
   ]
  },
  {
   "cell_type": "code",
   "execution_count": 20,
   "id": "c33dcfac-edde-4e7d-82fa-0c45d212ac90",
   "metadata": {},
   "outputs": [],
   "source": [
    "def cos_x(x):\n",
    "    return np.cos(x)"
   ]
  },
  {
   "cell_type": "code",
   "execution_count": 21,
   "id": "d0e462a5-0e16-4ab5-b01d-2f674e13366a",
   "metadata": {},
   "outputs": [],
   "source": [
    "x_values = np.linspace(0, 6.28, 1000)\n",
    "sin_values = [sin_x(x) for x in x_values]\n",
    "cos_values = [cos_x(x) for x in x_values]\n",
    "data = list(zip(x_values, sin_values, cos_values))\n",
    "t = Table([x_values, sin_values, cos_values], names=(\"x\", \"sin(x)\", \"cos(x)\"))\n"
   ]
  },
  {
   "cell_type": "markdown",
   "id": "8dd0c6c7-bfa9-4b86-8de1-1c9ff2c5ac6f",
   "metadata": {},
   "source": [
    "## this cell creates a table, from 0 to 2pi (6.28) for x, sinx and cosx, tabulate is used for visuals."
   ]
  },
  {
   "cell_type": "code",
   "execution_count": 22,
   "id": "74ce8958-61f8-4956-8c93-7047f7077631",
   "metadata": {},
   "outputs": [
    {
     "name": "stdout",
     "output_type": "stream",
     "text": [
      "+--------+----------+----------+\n",
      "|      x |   sin(x) |   cos(x) |\n",
      "+========+==========+==========+\n",
      "| 0.0000 |   0.0000 |   1.0000 |\n",
      "+--------+----------+----------+\n",
      "| 0.0063 |   0.0063 |   1.0000 |\n",
      "+--------+----------+----------+\n",
      "| 0.0126 |   0.0126 |   0.9999 |\n",
      "+--------+----------+----------+\n",
      "| 0.0189 |   0.0189 |   0.9998 |\n",
      "+--------+----------+----------+\n",
      "| 0.0251 |   0.0251 |   0.9997 |\n",
      "+--------+----------+----------+\n",
      "| 0.0314 |   0.0314 |   0.9995 |\n",
      "+--------+----------+----------+\n",
      "| 0.0377 |   0.0377 |   0.9993 |\n",
      "+--------+----------+----------+\n",
      "| 0.0440 |   0.0440 |   0.9990 |\n",
      "+--------+----------+----------+\n",
      "| 0.0503 |   0.0503 |   0.9987 |\n",
      "+--------+----------+----------+\n",
      "| 0.0566 |   0.0565 |   0.9984 |\n",
      "+--------+----------+----------+\n"
     ]
    }
   ],
   "source": [
    "table = tabulate(data[:10], headers=['x', 'sin(x)', 'cos(x)'], tablefmt='grid', floatfmt=\".4f\")\n",
    "print(table)"
   ]
  }
 ],
 "metadata": {
  "kernelspec": {
   "display_name": "Python 3 (ipykernel)",
   "language": "python",
   "name": "python3"
  },
  "language_info": {
   "codemirror_mode": {
    "name": "ipython",
    "version": 3
   },
   "file_extension": ".py",
   "mimetype": "text/x-python",
   "name": "python",
   "nbconvert_exporter": "python",
   "pygments_lexer": "ipython3",
   "version": "3.11.7"
  }
 },
 "nbformat": 4,
 "nbformat_minor": 5
}
